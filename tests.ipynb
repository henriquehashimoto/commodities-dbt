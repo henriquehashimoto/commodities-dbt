{
 "cells": [
  {
   "cell_type": "code",
   "execution_count": 7,
   "metadata": {},
   "outputs": [
    {
     "data": {
      "text/plain": [
       "True"
      ]
     },
     "execution_count": 7,
     "metadata": {},
     "output_type": "execute_result"
    }
   ],
   "source": [
    "# import libraries\n",
    "import pandas as pd\n",
    "import yfinance as yf\n",
    "from sqlalchemy import create_engine\n",
    "from dotenv import load_dotenv\n",
    "import os\n",
    "load_dotenv()"
   ]
  },
  {
   "cell_type": "code",
   "execution_count": 8,
   "metadata": {},
   "outputs": [
    {
     "name": "stdout",
     "output_type": "stream",
     "text": [
      "postgres\n"
     ]
    }
   ],
   "source": [
    "print(os.getenv('DB_TYPE_PROD'))"
   ]
  },
  {
   "cell_type": "code",
   "execution_count": 9,
   "metadata": {},
   "outputs": [],
   "source": [
    "#=================================\n",
    "# Import of environment variables\n",
    "#=================================\n",
    "commodities = ['CL=F', 'GC=F', 'SI=F']\n",
    "\n",
    "DB_HOST_PROD = os.getenv('DB_HOST_PROD')\n",
    "DB_PORT_PROD = os.getenv('DB_PORT_PROD')\n",
    "DB_USER_PROD = os.getenv('DB_USER_PROD')\n",
    "DB_PASS_PROD = os.getenv('DB_PASS_PROD')\n",
    "DB_SCHEMA_PROD = os.getenv('DB_SCHEMA_PROD')\n",
    "DB_NAME = os.getenv('DB_NAME')\n",
    "\n",
    "database_url = f'postgresql://{DB_USER_PROD}:{DB_PASS_PROD}@{DB_HOST_PROD}:{DB_PORT_PROD}/{DB_NAME}'\n",
    "engine=create_engine(database_url)"
   ]
  },
  {
   "cell_type": "code",
   "execution_count": 15,
   "metadata": {},
   "outputs": [],
   "source": [
    "def get_commodities(ticker, period='5d', interval='1d'):\n",
    "    ticker_orig = ticker\n",
    "    ticker = yf.Ticker(ticker)\n",
    "    data = ticker.history(period=period, interval=interval)[['Close']]\n",
    "    data[\"ticker\"] = ticker_orig\n",
    "    return data\n",
    "\n",
    "test_get_df = get_commodities(\"CL=F\")"
   ]
  },
  {
   "cell_type": "code",
   "execution_count": 16,
   "metadata": {},
   "outputs": [
    {
     "data": {
      "text/html": [
       "<div>\n",
       "<style scoped>\n",
       "    .dataframe tbody tr th:only-of-type {\n",
       "        vertical-align: middle;\n",
       "    }\n",
       "\n",
       "    .dataframe tbody tr th {\n",
       "        vertical-align: top;\n",
       "    }\n",
       "\n",
       "    .dataframe thead th {\n",
       "        text-align: right;\n",
       "    }\n",
       "</style>\n",
       "<table border=\"1\" class=\"dataframe\">\n",
       "  <thead>\n",
       "    <tr style=\"text-align: right;\">\n",
       "      <th></th>\n",
       "      <th>Close</th>\n",
       "      <th>ticker</th>\n",
       "    </tr>\n",
       "    <tr>\n",
       "      <th>Date</th>\n",
       "      <th></th>\n",
       "      <th></th>\n",
       "    </tr>\n",
       "  </thead>\n",
       "  <tbody>\n",
       "    <tr>\n",
       "      <th>2024-08-19 00:00:00-04:00</th>\n",
       "      <td>74.370003</td>\n",
       "      <td>CL=F</td>\n",
       "    </tr>\n",
       "    <tr>\n",
       "      <th>2024-08-20 00:00:00-04:00</th>\n",
       "      <td>74.040001</td>\n",
       "      <td>CL=F</td>\n",
       "    </tr>\n",
       "    <tr>\n",
       "      <th>2024-08-21 00:00:00-04:00</th>\n",
       "      <td>71.930000</td>\n",
       "      <td>CL=F</td>\n",
       "    </tr>\n",
       "    <tr>\n",
       "      <th>2024-08-22 00:00:00-04:00</th>\n",
       "      <td>73.010002</td>\n",
       "      <td>CL=F</td>\n",
       "    </tr>\n",
       "    <tr>\n",
       "      <th>2024-08-23 00:00:00-04:00</th>\n",
       "      <td>74.830002</td>\n",
       "      <td>CL=F</td>\n",
       "    </tr>\n",
       "  </tbody>\n",
       "</table>\n",
       "</div>"
      ],
      "text/plain": [
       "                               Close ticker\n",
       "Date                                       \n",
       "2024-08-19 00:00:00-04:00  74.370003   CL=F\n",
       "2024-08-20 00:00:00-04:00  74.040001   CL=F\n",
       "2024-08-21 00:00:00-04:00  71.930000   CL=F\n",
       "2024-08-22 00:00:00-04:00  73.010002   CL=F\n",
       "2024-08-23 00:00:00-04:00  74.830002   CL=F"
      ]
     },
     "execution_count": 16,
     "metadata": {},
     "output_type": "execute_result"
    }
   ],
   "source": [
    "test_get_df"
   ]
  }
 ],
 "metadata": {
  "kernelspec": {
   "display_name": "duckdb-docker-etl-7wcjH13O-py3.12",
   "language": "python",
   "name": "python3"
  },
  "language_info": {
   "codemirror_mode": {
    "name": "ipython",
    "version": 3
   },
   "file_extension": ".py",
   "mimetype": "text/x-python",
   "name": "python",
   "nbconvert_exporter": "python",
   "pygments_lexer": "ipython3",
   "version": "3.12.5"
  }
 },
 "nbformat": 4,
 "nbformat_minor": 2
}
